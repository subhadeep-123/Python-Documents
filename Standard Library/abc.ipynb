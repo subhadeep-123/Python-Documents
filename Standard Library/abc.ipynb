{
 "cells": [
  {
   "cell_type": "markdown",
   "id": "3fa7cd6e",
   "metadata": {},
   "source": [
    "## Abstract Classes in Python"
   ]
  },
  {
   "cell_type": "code",
   "execution_count": 2,
   "id": "a960de93",
   "metadata": {},
   "outputs": [],
   "source": [
    "from abc import ABC, abstractmethod"
   ]
  },
  {
   "cell_type": "code",
   "execution_count": 8,
   "id": "f2c3b409",
   "metadata": {},
   "outputs": [],
   "source": [
    "class Base(ABC):\n",
    "    @abstractmethod\n",
    "    def temp(name):\n",
    "        raise NotImplementedError\n",
    "\n",
    "class Child(Base):\n",
    "#     def temp(name):\n",
    "#         return f\"The name is - {name}\"\n",
    "    def address(addr):\n",
    "        return f\"The address is {addr}\""
   ]
  },
  {
   "cell_type": "code",
   "execution_count": 12,
   "id": "c77092da",
   "metadata": {},
   "outputs": [
    {
     "data": {
      "text/plain": [
       "'The name is - 123 Lane'"
      ]
     },
     "execution_count": 12,
     "metadata": {},
     "output_type": "execute_result"
    }
   ],
   "source": [
    "obj = Child\n",
    "obj.temp(\"123 Lane\")"
   ]
  },
  {
   "cell_type": "code",
   "execution_count": 17,
   "id": "84750822",
   "metadata": {},
   "outputs": [
    {
     "name": "stdout",
     "output_type": "stream",
     "text": [
      "I have 3 sides\n",
      "I have 5 sides\n",
      "I have 6 sides\n"
     ]
    }
   ],
   "source": [
    "from abc import ABC, abstractmethod\n",
    "\n",
    "class Polygon(ABC):\n",
    "    @abstractmethod\n",
    "    def noofsides(self):\n",
    "        pass\n",
    "    \n",
    "class Triangle(Polygon):\n",
    "    def noofsides(self):\n",
    "        print(\"I have 3 sides\")\n",
    "        \n",
    "class Pentagon(Polygon):\n",
    "    def noofsides(self):\n",
    "        print(\"I have 5 sides\")\n",
    "\n",
    "class Hexagon(Polygon):\n",
    "    def noofsides(self):\n",
    "        print(\"I have 6 sides\")\n",
    "    \n",
    "T = Triangle()\n",
    "T.noofsides()\n",
    "\n",
    "P = Pentagon()\n",
    "P.noofsides()\n",
    "\n",
    "H = Hexagon()\n",
    "H.noofsides()"
   ]
  },
  {
   "cell_type": "code",
   "execution_count": 23,
   "id": "54fa8e0c",
   "metadata": {},
   "outputs": [
    {
     "name": "stdout",
     "output_type": "stream",
     "text": [
      "True\n",
      "True\n",
      "Parent Class\n",
      "Child Class\n"
     ]
    }
   ],
   "source": [
    "import abc\n",
    "\n",
    "class parent:\n",
    "    def geeks(self):\n",
    "        print(\"Parent Class\")\n",
    "    \n",
    "class child(parent):\n",
    "#     def __init__(self) -> None:\n",
    "#         super().__init__()\n",
    "        \n",
    "    def geeks(self):\n",
    "        super().geeks()\n",
    "        print(\"Child Class\")\n",
    "        \n",
    "print(issubclass(child, parent))\n",
    "print(isinstance(child(), parent))\n",
    "\n",
    "obj = child()\n",
    "obj.geeks()"
   ]
  },
  {
   "cell_type": "code",
   "execution_count": 24,
   "id": "f21fa611",
   "metadata": {},
   "outputs": [],
   "source": [
    "class R(ABC):\n",
    "    def rk(self):\n",
    "        print(\"Abstract Base Class\")\n",
    "class K(R):\n",
    "    def rk(self):\n",
    "        super().rk()\n",
    "        print(\"Subclass\")"
   ]
  },
  {
   "cell_type": "code",
   "execution_count": 40,
   "id": "2921e034",
   "metadata": {},
   "outputs": [
    {
     "name": "stdout",
     "output_type": "stream",
     "text": [
      "Can't instantiate abstract class parent with abstract method geeks\n",
      "Child Class\n"
     ]
    }
   ],
   "source": [
    "from abc import ABC, abstractmethod, abstractproperty\n",
    "\n",
    "class parent(ABC):\n",
    "    @abc.abstractproperty\n",
    "    def geeks():\n",
    "        return \"Parent Class\"\n",
    "        \n",
    "class child(parent):\n",
    "    @property\n",
    "    def geeks(self):\n",
    "        return \"Child Class\"\n",
    "    \n",
    "try:\n",
    "    r = parent()\n",
    "    print(r.geeks())\n",
    "except Exception as err:\n",
    "    print(err)\n",
    "\n",
    "c = child()\n",
    "print(c.geeks)"
   ]
  },
  {
   "cell_type": "markdown",
   "id": "67ee8a85",
   "metadata": {},
   "source": [
    "## Abstract Base Class (abc) in Python"
   ]
  },
  {
   "cell_type": "code",
   "execution_count": 41,
   "id": "532d05c2",
   "metadata": {},
   "outputs": [
    {
     "name": "stdout",
     "output_type": "stream",
     "text": [
      "<class 'dict'>\n",
      "True\n"
     ]
    }
   ],
   "source": [
    "import abc\n",
    "class AbstractClass(metaclass=abc.ABCMeta):\n",
    "    def abstractfunc(self):\n",
    "        return None\n",
    "    \n",
    "print(AbstractClass.register(dict))\n",
    "print(issubclass(dict, AbstractClass))"
   ]
  },
  {
   "cell_type": "code",
   "execution_count": 42,
   "id": "1a9510a9",
   "metadata": {},
   "outputs": [
    {
     "name": "stdout",
     "output_type": "stream",
     "text": [
      "List Instance True\n",
      "TupleInstance True\n",
      "Object Instance False\n"
     ]
    }
   ],
   "source": [
    "import abc\n",
    "\n",
    "class MySequence(metaclass=abc.ABCMeta):\n",
    "    pass\n",
    "MySequence.register(list)\n",
    "MySequence.register(tuple)\n",
    "\n",
    "a = [1, 2, 3]\n",
    "b = ('a', 'b', 'c')\n",
    "\n",
    "print(f\"List Instance {isinstance(a, MySequence)}\")\n",
    "print(f\"TupleInstance {isinstance(b, MySequence)}\")\n",
    "print(f\"Object Instance {isinstance(object(), MySequence)}\")"
   ]
  },
  {
   "cell_type": "code",
   "execution_count": 44,
   "id": "08e6ed96",
   "metadata": {},
   "outputs": [
    {
     "name": "stdout",
     "output_type": "stream",
     "text": [
      "True\n"
     ]
    }
   ],
   "source": [
    "import abc\n",
    "\n",
    "class MySequence(metaclass=abc.ABCMeta):\n",
    "    pass\n",
    "\n",
    "class CustomSequenceClass(object):\n",
    "    pass\n",
    "\n",
    "MySequence.register(CustomSequenceClass)\n",
    "print(issubclass(CustomSequenceClass, MySequence))"
   ]
  },
  {
   "cell_type": "code",
   "execution_count": 47,
   "id": "e3573edf",
   "metadata": {},
   "outputs": [
    {
     "name": "stdout",
     "output_type": "stream",
     "text": [
      "True\n",
      "False\n",
      "True\n"
     ]
    }
   ],
   "source": [
    "import abc\n",
    "\n",
    "class MySequence(metaclass=abc.ABCMeta):\n",
    "    pass\n",
    "\n",
    "@MySequence.register\n",
    "class CustomSequenceClass(object):\n",
    "    pass\n",
    "print(issubclass(CustomSequenceClass, MySequence))\n",
    "print(isinstance(CustomSequenceClass, MySequence))\n",
    "print(isinstance(CustomSequenceClass(), MySequence))"
   ]
  },
  {
   "cell_type": "code",
   "execution_count": 48,
   "id": "3da63326",
   "metadata": {},
   "outputs": [
    {
     "name": "stdout",
     "output_type": "stream",
     "text": [
      "Subclass Hook: <class '__main__.SubClass'>\n",
      "True\n",
      "Subclass Hook: <class '__main__.NormalClass'>\n",
      "False\n"
     ]
    }
   ],
   "source": [
    "import abc\n",
    "\n",
    "class AbstractClass(metaclass=abc.ABCMeta):\n",
    "    @classmethod\n",
    "    def __subclasshook__(cls, other):\n",
    "        print('Subclass Hook:', other)\n",
    "        hookmethod = getattr(other, 'hookmethod', None)\n",
    "        return callable(hookmethod)\n",
    "    \n",
    "class SubClass(object):\n",
    "    def hookmethod(self):\n",
    "        pass\n",
    "\n",
    "class NormalClass(object):\n",
    "    hookmethod = 'hook'\n",
    "    \n",
    "print(issubclass(SubClass, AbstractClass))\n",
    "print(issubclass(NormalClass, AbstractClass))"
   ]
  },
  {
   "cell_type": "code",
   "execution_count": 50,
   "id": "ec1c4eaf",
   "metadata": {},
   "outputs": [
    {
     "ename": "TypeError",
     "evalue": "Can't instantiate abstract class InvalidSubCLass with abstract method abstractname",
     "output_type": "error",
     "traceback": [
      "\u001b[1;31m---------------------------------------------------------------------------\u001b[0m",
      "\u001b[1;31mTypeError\u001b[0m                                 Traceback (most recent call last)",
      "\u001b[1;32mC:\\Users\\SUBHAD~1\\AppData\\Local\\Temp/ipykernel_5808/3344530367.py\u001b[0m in \u001b[0;36m<module>\u001b[1;34m\u001b[0m\n\u001b[0;32m      9\u001b[0m     \u001b[1;32mpass\u001b[0m\u001b[1;33m\u001b[0m\u001b[1;33m\u001b[0m\u001b[0m\n\u001b[0;32m     10\u001b[0m \u001b[1;33m\u001b[0m\u001b[0m\n\u001b[1;32m---> 11\u001b[1;33m \u001b[0misc\u001b[0m \u001b[1;33m=\u001b[0m \u001b[0mInvalidSubCLass\u001b[0m\u001b[1;33m(\u001b[0m\u001b[1;33m)\u001b[0m\u001b[1;33m\u001b[0m\u001b[1;33m\u001b[0m\u001b[0m\n\u001b[0m",
      "\u001b[1;31mTypeError\u001b[0m: Can't instantiate abstract class InvalidSubCLass with abstract method abstractname"
     ]
    }
   ],
   "source": [
    "import abc\n",
    "\n",
    "class AbstractClass(metaclass=abc.ABCMeta):\n",
    "    @abc.abstractmethod\n",
    "    def abstractname(self):\n",
    "        pass\n",
    "    \n",
    "class InvalidSubCLass(AbstractClass):\n",
    "    pass\n",
    "\n",
    "isc = InvalidSubCLass()"
   ]
  },
  {
   "cell_type": "code",
   "execution_count": 52,
   "id": "809c51ec",
   "metadata": {},
   "outputs": [
    {
     "name": "stdout",
     "output_type": "stream",
     "text": [
      "This is a valid subclass\n"
     ]
    }
   ],
   "source": [
    "import abc\n",
    "\n",
    "class AbstractClass(metaclass=abc.ABCMeta):\n",
    "    @abc.abstractmethod\n",
    "    def abstractname(self):\n",
    "        pass\n",
    "    \n",
    "class ValidSubCLass(AbstractClass):\n",
    "    def abstractname(self):\n",
    "        print(\"This is a valid subclass\")\n",
    "\n",
    "vc = ValidSubCLass()\n",
    "vc.abstractname()"
   ]
  },
  {
   "cell_type": "code",
   "execution_count": 66,
   "id": "bdcdea81",
   "metadata": {},
   "outputs": [
    {
     "name": "stdout",
     "output_type": "stream",
     "text": [
      "Hello Subhadeep\n"
     ]
    }
   ],
   "source": [
    "# AbstractProperties\n",
    "import abc\n",
    "\n",
    "class AbstractClass(metaclass=abc.ABCMeta):\n",
    "    @property\n",
    "    @abc.abstractproperty\n",
    "    def detail(name):\n",
    "        pass\n",
    "    \n",
    "class SubAbstractClass(AbstractClass):\n",
    "    @property\n",
    "    def detail(self):\n",
    "        return f\"Hello Subhadeep\"\n",
    "    \n",
    "sub_obj = SubAbstractClass()\n",
    "print(sub_obj.detail)"
   ]
  },
  {
   "cell_type": "markdown",
   "id": "374884b3",
   "metadata": {},
   "source": [
    "## Self Practice"
   ]
  },
  {
   "cell_type": "code",
   "execution_count": 87,
   "id": "7f9d33ff",
   "metadata": {},
   "outputs": [
    {
     "name": "stdout",
     "output_type": "stream",
     "text": [
      "Hello, Subhadeep\n",
      "Hello, Detective\n"
     ]
    }
   ],
   "source": [
    "from abc import abstractmethod, ABCMeta, ABC, abstractproperty\n",
    "\n",
    "class BaseClass(metaclass = ABCMeta):\n",
    "    @abstractmethod\n",
    "    def one(name):\n",
    "        pass\n",
    "    \n",
    "    @property\n",
    "    @abstractproperty\n",
    "    def two():\n",
    "        pass\n",
    "    \n",
    "class SubClass(BaseClass):\n",
    "    def one(self,name):\n",
    "        print(f\"Hello, {name}\")\n",
    "    \n",
    "    @property\n",
    "    def two(self):\n",
    "        return \"Hello, Detective\"\n",
    "        \n",
    "obj = SubClass()\n",
    "obj.one(\"Subhadeep\")\n",
    "print(obj.two)"
   ]
  },
  {
   "cell_type": "code",
   "execution_count": 90,
   "id": "b8098863",
   "metadata": {},
   "outputs": [],
   "source": [
    "class ABCMeta(type):\n",
    "\n",
    "    def __instancecheck__(cls, inst):\n",
    "        \"\"\"Implement isinstance(inst, cls).\"\"\"\n",
    "        return any(cls.__subclasscheck__(c)\n",
    "                   for c in {type(inst), inst.__class__})\n",
    "\n",
    "    def __subclasscheck__(cls, sub):\n",
    "        \"\"\"Implement issubclass(sub, cls).\"\"\"\n",
    "        candidates = cls.__dict__.get(\"__subclass__\", set()) | {cls}\n",
    "        return any(c in candidates for c in sub.mro())\n",
    "\n",
    "class Sequence(metaclass=ABCMeta):\n",
    "    __subclass__ = {list, tuple}\n",
    "\n",
    "assert issubclass(list, Sequence)\n",
    "assert issubclass(tuple, Sequence)\n",
    "\n",
    "class AppendableSequence(Sequence):\n",
    "    __subclass__ = {list}\n",
    "\n",
    "assert issubclass(list, AppendableSequence)\n",
    "assert isinstance([], AppendableSequence)\n",
    "\n",
    "assert not issubclass(tuple, AppendableSequence)\n",
    "assert not isinstance((), AppendableSequence)"
   ]
  },
  {
   "cell_type": "code",
   "execution_count": 92,
   "id": "0900c4f1",
   "metadata": {},
   "outputs": [
    {
     "data": {
      "text/plain": [
       "(__main__.ABCMeta, type, object)"
      ]
     },
     "execution_count": 92,
     "metadata": {},
     "output_type": "execute_result"
    }
   ],
   "source": [
    "ABCMeta.__mro__"
   ]
  },
  {
   "cell_type": "code",
   "execution_count": 95,
   "id": "d351e1e1",
   "metadata": {},
   "outputs": [
    {
     "data": {
      "text/plain": [
       "-8049184593585408485"
      ]
     },
     "execution_count": 95,
     "metadata": {},
     "output_type": "execute_result"
    }
   ],
   "source": [
    "hash(\"asdfdasf\")"
   ]
  },
  {
   "cell_type": "code",
   "execution_count": 97,
   "id": "5ee51838",
   "metadata": {},
   "outputs": [
    {
     "data": {
      "text/plain": [
       "(['__call__',\n",
       "  '__class__',\n",
       "  '__delattr__',\n",
       "  '__dir__',\n",
       "  '__doc__',\n",
       "  '__eq__',\n",
       "  '__format__',\n",
       "  '__ge__',\n",
       "  '__getattribute__',\n",
       "  '__gt__',\n",
       "  '__hash__',\n",
       "  '__init__',\n",
       "  '__init_subclass__',\n",
       "  '__le__',\n",
       "  '__lt__',\n",
       "  '__module__',\n",
       "  '__name__',\n",
       "  '__ne__',\n",
       "  '__new__',\n",
       "  '__qualname__',\n",
       "  '__reduce__',\n",
       "  '__reduce_ex__',\n",
       "  '__repr__',\n",
       "  '__self__',\n",
       "  '__setattr__',\n",
       "  '__sizeof__',\n",
       "  '__str__',\n",
       "  '__subclasshook__',\n",
       "  '__text_signature__'],\n",
       " 'Return the hash value for the given object.\\n\\nTwo objects that compare equal must also have the same hash value, but the\\nreverse is not necessarily true.')"
      ]
     },
     "execution_count": 97,
     "metadata": {},
     "output_type": "execute_result"
    }
   ],
   "source": [
    "dir(hash), hash.__doc__"
   ]
  },
  {
   "cell_type": "code",
   "execution_count": 100,
   "id": "c7a1b394",
   "metadata": {},
   "outputs": [
    {
     "name": "stdout",
     "output_type": "stream",
     "text": [
      "3\n",
      "True\n",
      "False\n",
      "True\n"
     ]
    }
   ],
   "source": [
    "class Team:\n",
    "    def __init__(self, members):\n",
    "        self.__members = members\n",
    "\n",
    "    def __len__(self):\n",
    "        return len(self.__members)\n",
    "\n",
    "    def __contains__(self, member):\n",
    "        return member in self.__members\n",
    "\n",
    "\n",
    "justice_league_fav = Team([\"batman\", \"wonder woman\", \"flash\"])\n",
    "\n",
    "# Sized protocol\n",
    "print(len(justice_league_fav))\n",
    "\n",
    "# Container protocol\n",
    "print(\"batman\" in justice_league_fav)\n",
    "print(\"superman\" in justice_league_fav)\n",
    "print(\"cyborg\" not in justice_league_fav)"
   ]
  },
  {
   "cell_type": "code",
   "execution_count": null,
   "id": "0be0b1e8",
   "metadata": {},
   "outputs": [],
   "source": []
  }
 ],
 "metadata": {
  "kernelspec": {
   "display_name": "Python 3 (ipykernel)",
   "language": "python",
   "name": "python3"
  },
  "language_info": {
   "codemirror_mode": {
    "name": "ipython",
    "version": 3
   },
   "file_extension": ".py",
   "mimetype": "text/x-python",
   "name": "python",
   "nbconvert_exporter": "python",
   "pygments_lexer": "ipython3",
   "version": "3.9.6"
  }
 },
 "nbformat": 4,
 "nbformat_minor": 5
}
