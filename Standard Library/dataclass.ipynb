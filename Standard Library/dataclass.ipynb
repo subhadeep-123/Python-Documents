{
 "cells": [
  {
   "cell_type": "code",
   "execution_count": 3,
   "id": "administrative-garlic",
   "metadata": {},
   "outputs": [
    {
     "name": "stdout",
     "output_type": "stream",
     "text": [
      "['__annotations__', '__call__', '__class__', '__closure__', '__code__', '__defaults__', '__delattr__', '__dict__', '__dir__', '__doc__', '__eq__', '__format__', '__ge__', '__get__', '__getattribute__', '__globals__', '__gt__', '__hash__', '__init__', '__init_subclass__', '__kwdefaults__', '__le__', '__lt__', '__module__', '__name__', '__ne__', '__new__', '__qualname__', '__reduce__', '__reduce_ex__', '__repr__', '__setattr__', '__sizeof__', '__str__', '__subclasshook__']\n"
     ]
    }
   ],
   "source": [
    "from dataclasses import dataclass\n",
    "print(dir(dataclass))"
   ]
  },
  {
   "cell_type": "code",
   "execution_count": 4,
   "id": "forty-counter",
   "metadata": {},
   "outputs": [
    {
     "name": "stdout",
     "output_type": "stream",
     "text": [
      "Help on function dataclass in module dataclasses:\n",
      "\n",
      "dataclass(cls=None, /, *, init=True, repr=True, eq=True, order=False, unsafe_hash=False, frozen=False)\n",
      "    Returns the same class as was passed in, with dunder methods\n",
      "    added based on the fields defined in the class.\n",
      "    \n",
      "    Examines PEP 526 __annotations__ to determine fields.\n",
      "    \n",
      "    If init is true, an __init__() method is added to the class. If\n",
      "    repr is true, a __repr__() method is added. If order is true, rich\n",
      "    comparison dunder methods are added. If unsafe_hash is true, a\n",
      "    __hash__() method function is added. If frozen is true, fields may\n",
      "    not be assigned to after instance creation.\n",
      "\n",
      "None\n"
     ]
    }
   ],
   "source": [
    "print(help(dataclass))"
   ]
  },
  {
   "cell_type": "code",
   "execution_count": 5,
   "id": "herbal-peace",
   "metadata": {},
   "outputs": [],
   "source": [
    "@dataclass\n",
    "class TestFunc:\n",
    "    \"\"\"dataclass testing in TestFunc\"\"\"\n",
    "    name: str\n",
    "    unit_price: float\n",
    "    quantity_on_hand: int = 0\n",
    "    \n",
    "    def total_cost(self) -> float:\n",
    "        return self.unit_price * self.quantity_on_hand"
   ]
  },
  {
   "cell_type": "code",
   "execution_count": 16,
   "id": "confident-command",
   "metadata": {},
   "outputs": [
    {
     "name": "stdout",
     "output_type": "stream",
     "text": [
      "TestFunc(name='idkey', unit_price=500, quantity_on_hand=0)\n",
      "[TestFunc(name='idkey', unit_price=500, quantity_on_hand=0)]\n"
     ]
    }
   ],
   "source": [
    "obj = TestFunc(\"idkey\", 500)\n",
    "print(obj)\n",
    "print(obj)"
   ]
  },
  {
   "cell_type": "code",
   "execution_count": 13,
   "id": "supported-perfume",
   "metadata": {},
   "outputs": [],
   "source": [
    "class TestFuncTwo:\n",
    "    \"\"\"dataclass testing in TestFunc\"\"\"\n",
    "    def __init__(self, name: str, unit_price: float) -> None:\n",
    "        self.name = name\n",
    "        self.unit_price = unit_price\n",
    "        self.quantity_on_hand: int = 0\n",
    "    def total_cost(self) -> float:\n",
    "        return self.unit_price * self.quantity_on_hand"
   ]
  },
  {
   "cell_type": "code",
   "execution_count": 15,
   "id": "welcome-entrepreneur",
   "metadata": {},
   "outputs": [
    {
     "name": "stdout",
     "output_type": "stream",
     "text": [
      "<__main__.TestFuncTwo object at 0x000001C0E0D4A400>\n",
      "[<__main__.TestFuncTwo object at 0x000001C0E0D4A400>]\n"
     ]
    }
   ],
   "source": [
    "obj = TestFuncTwo(\"idkey\", 500)\n",
    "print(obj)\n",
    "print([obj])"
   ]
  },
  {
   "cell_type": "code",
   "execution_count": 17,
   "id": "minimal-identifier",
   "metadata": {},
   "outputs": [],
   "source": [
    "class Employee:\n",
    "\n",
    "    num_of_emps = 0\n",
    "    raise_amt = 1.04\n",
    "\n",
    "    def __init__(self, first, last, pay):\n",
    "        self.first = first\n",
    "        self.last = last\n",
    "        self.email = first + '.' + last + '@email.com'\n",
    "        self.pay = pay\n",
    "\n",
    "        Employee.num_of_emps += 1\n",
    "\n",
    "    def fullname(self):\n",
    "        return '{} {}'.format(self.first, self.last)\n",
    "\n",
    "    def apply_raise(self):\n",
    "        self.pay = int(self.pay * self.raise_amt)\n",
    "        \n",
    "    def __repr__(self):\n",
    "        return f\"Employee('{self.first}','{self.last}','{self.pay}')\"\n",
    "    \n",
    "    def __str__(self):\n",
    "        return f'{self.fullname} - {self.email}'"
   ]
  },
  {
   "cell_type": "code",
   "execution_count": 26,
   "id": "average-shower",
   "metadata": {},
   "outputs": [
    {
     "name": "stdout",
     "output_type": "stream",
     "text": [
      "<bound method Employee.fullname of Employee('Subhadeep','Banerjee','9999999')> - Subhadeep.Banerjee@email.com\n",
      "<bound method Employee.fullname of Employee('Subhadeep','Banerjee','9999999')> - Subhadeep.Banerjee@email.com\n"
     ]
    }
   ],
   "source": [
    "obj = Employee('Subhadeep', 'Banerjee', 9999999)\n",
    "print(str(obj))\n",
    "print(obj)"
   ]
  },
  {
   "cell_type": "code",
   "execution_count": 21,
   "id": "digital-access",
   "metadata": {},
   "outputs": [
    {
     "data": {
      "text/plain": [
       "<bound method Employee.__str__ of Employee('Subhadeep','Banerjee','9999999')>"
      ]
     },
     "execution_count": 21,
     "metadata": {},
     "output_type": "execute_result"
    }
   ],
   "source": [
    "obj.__str__"
   ]
  },
  {
   "cell_type": "code",
   "execution_count": 22,
   "id": "expensive-serial",
   "metadata": {},
   "outputs": [
    {
     "data": {
      "text/plain": [
       "<bound method Employee.__repr__ of Employee('Subhadeep','Banerjee','9999999')>"
      ]
     },
     "execution_count": 22,
     "metadata": {},
     "output_type": "execute_result"
    }
   ],
   "source": [
    "obj.__repr__"
   ]
  },
  {
   "cell_type": "code",
   "execution_count": null,
   "id": "generous-samuel",
   "metadata": {},
   "outputs": [],
   "source": []
  }
 ],
 "metadata": {
  "kernelspec": {
   "display_name": "Python 3",
   "language": "python",
   "name": "python3"
  },
  "language_info": {
   "codemirror_mode": {
    "name": "ipython",
    "version": 3
   },
   "file_extension": ".py",
   "mimetype": "text/x-python",
   "name": "python",
   "nbconvert_exporter": "python",
   "pygments_lexer": "ipython3",
   "version": "3.8.7"
  }
 },
 "nbformat": 4,
 "nbformat_minor": 5
}
