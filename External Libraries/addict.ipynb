{
 "cells": [
  {
   "cell_type": "code",
   "execution_count": 6,
   "id": "df0f8e50",
   "metadata": {},
   "outputs": [
    {
     "name": "stdout",
     "output_type": "stream",
     "text": [
      "{    'query': {'filtered': {'filter': {'term': {'created_by': 'Mats'}}}},\n",
      "     'qyery': {    'filtered': {    'query': {    'match': {    'castBool': 'True',\n",
      "                                                                'description': 'addictive'}}}}}\n"
     ]
    }
   ],
   "source": [
    "from addict import Dict\n",
    "from pprint import pprint\n",
    "\n",
    "body = Dict()\n",
    "body.qyery.filtered.query.match.description = 'addictive'\n",
    "body.query.filtered.filter.term.created_by = 'Mats'\n",
    "body.qyery.filtered.query.match.castBool = 'True'\n",
    "pprint(body, indent =5)"
   ]
  },
  {
   "cell_type": "code",
   "execution_count": 7,
   "id": "21444667",
   "metadata": {},
   "outputs": [
    {
     "name": "stdout",
     "output_type": "stream",
     "text": [
      "{'a': [{'b': 3}, {'b': 9}]}\n"
     ]
    }
   ],
   "source": [
    "mapping = {'a': [\n",
    "    {\n",
    "        'b':3\n",
    "    },\n",
    "    {\n",
    "        'b':9\n",
    "    }\n",
    "]}\n",
    "print(mapping)"
   ]
  },
  {
   "cell_type": "code",
   "execution_count": 8,
   "id": "46725c0c",
   "metadata": {},
   "outputs": [
    {
     "name": "stdout",
     "output_type": "stream",
     "text": [
      "{'a': [{'b': 3}, {'b': 9}]}\n"
     ]
    }
   ],
   "source": [
    "converted = Dict(mapping)\n",
    "print(converted)"
   ]
  },
  {
   "cell_type": "code",
   "execution_count": 17,
   "id": "3f850a7f",
   "metadata": {},
   "outputs": [
    {
     "data": {
      "text/plain": [
       "3"
      ]
     },
     "execution_count": 17,
     "metadata": {},
     "output_type": "execute_result"
    }
   ],
   "source": [
    "mapping['a'][0]['b']"
   ]
  },
  {
   "cell_type": "code",
   "execution_count": 18,
   "id": "156ca13b",
   "metadata": {},
   "outputs": [],
   "source": [
    "mapping['a'][0]['b'] = 4"
   ]
  },
  {
   "cell_type": "code",
   "execution_count": 19,
   "id": "42c82b33",
   "metadata": {},
   "outputs": [
    {
     "data": {
      "text/plain": [
       "4"
      ]
     },
     "execution_count": 19,
     "metadata": {},
     "output_type": "execute_result"
    }
   ],
   "source": [
    "mapping['a'][0]['b']"
   ]
  },
  {
   "cell_type": "code",
   "execution_count": 20,
   "id": "e87dd378",
   "metadata": {},
   "outputs": [
    {
     "data": {
      "text/plain": [
       "{'a': [{'b': 4}, {'b': 9}]}"
      ]
     },
     "execution_count": 20,
     "metadata": {},
     "output_type": "execute_result"
    }
   ],
   "source": [
    "mapping"
   ]
  },
  {
   "cell_type": "code",
   "execution_count": 22,
   "id": "6e5d9965",
   "metadata": {},
   "outputs": [],
   "source": [
    "mapping['a'][0].get('d')"
   ]
  },
  {
   "cell_type": "code",
   "execution_count": null,
   "id": "1a040aa8",
   "metadata": {},
   "outputs": [],
   "source": []
  }
 ],
 "metadata": {
  "kernelspec": {
   "display_name": "Python 3 (ipykernel)",
   "language": "python",
   "name": "python3"
  },
  "language_info": {
   "codemirror_mode": {
    "name": "ipython",
    "version": 3
   },
   "file_extension": ".py",
   "mimetype": "text/x-python",
   "name": "python",
   "nbconvert_exporter": "python",
   "pygments_lexer": "ipython3",
   "version": "3.8.7"
  }
 },
 "nbformat": 4,
 "nbformat_minor": 5
}
